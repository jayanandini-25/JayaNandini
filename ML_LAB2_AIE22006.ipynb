{
  "nbformat": 4,
  "nbformat_minor": 0,
  "metadata": {
    "colab": {
      "provenance": []
    },
    "kernelspec": {
      "name": "python3",
      "display_name": "Python 3"
    },
    "language_info": {
      "name": "python"
    }
  },
  "cells": [
    {
      "cell_type": "code",
      "execution_count": 3,
      "metadata": {
        "colab": {
          "base_uri": "https://localhost:8080/"
        },
        "id": "aAHqvLTRGIJm",
        "outputId": "ad1c4be4-47b1-4332-9f76-6be147222e56"
      },
      "outputs": [
        {
          "output_type": "stream",
          "name": "stdout",
          "text": [
            "[0, 1, 2, 0, 2, 1]\n"
          ]
        }
      ],
      "source": [
        "def label_encode_categorical(data):\n",
        "    encoded_data = []\n",
        "    label_mapping = {}\n",
        "    label_counter = 0\n",
        "\n",
        "    for value in data:\n",
        "        if value not in label_mapping:\n",
        "            label_mapping[value] = label_counter\n",
        "            label_counter += 1\n",
        "\n",
        "    encoded_data = [label_mapping[value] for value in data]\n",
        "\n",
        "    return encoded_data\n",
        "\n",
        "categorical_data = ['red', 'blue', 'green', 'red', 'green', 'blue']\n",
        "encoded_data = label_encode_categorical(categorical_data)\n",
        "print(encoded_data)"
      ]
    },
    {
      "cell_type": "code",
      "source": [
        "import pandas as pd\n",
        "\n",
        "def one_hot_encode_categorical(dataframe, column_name):\n",
        "    unique_categories = list(set(dataframe[column_name]))\n",
        "\n",
        "    for category in unique_categories:\n",
        "        new_column_name = f\"{column_name}_{category}\"\n",
        "        dataframe[new_column_name] = (dataframe[column_name] == category).astype(int)\n",
        "\n",
        "    dataframe = dataframe.drop(column_name, axis=1)\n",
        "\n",
        "    return dataframe\n",
        "\n",
        "my_data = {\n",
        "    'patient_list': ['patient1', 'patient2', 'patient3', 'patient4', 'patient5'],\n",
        "    'age_list': [35, 28, 42, 31, 45],\n",
        "    'blood_group': ['A', 'B', 'O', 'AB', 'B']\n",
        "}\n",
        "\n",
        "patients_df = pd.DataFrame(my_data)\n",
        "\n",
        "print(\"Original DataFrame:\\n\")\n",
        "print(patients_df)\n",
        "\n",
        "patients_df = one_hot_encode_categorical(patients_df, 'blood_group')\n",
        "\n",
        "print(\"\\nDataFrame after One-Hot Encoding:\\n\")\n",
        "print(patients_df)\n"
      ],
      "metadata": {
        "colab": {
          "base_uri": "https://localhost:8080/"
        },
        "id": "GVrEDcxAIdNs",
        "outputId": "d08644fe-9b42-436c-ee56-4d064358fd66"
      },
      "execution_count": 8,
      "outputs": [
        {
          "output_type": "stream",
          "name": "stdout",
          "text": [
            "Original DataFrame:\n",
            "\n",
            "  patient_list  age_list blood_group\n",
            "0     patient1        35           A\n",
            "1     patient2        28           B\n",
            "2     patient3        42           O\n",
            "3     patient4        31          AB\n",
            "4     patient5        45           B\n",
            "\n",
            "DataFrame after One-Hot Encoding:\n",
            "\n",
            "  patient_list  age_list  blood_group_B  blood_group_O  blood_group_AB  \\\n",
            "0     patient1        35              0              0               0   \n",
            "1     patient2        28              1              0               0   \n",
            "2     patient3        42              0              1               0   \n",
            "3     patient4        31              0              0               1   \n",
            "4     patient5        45              1              0               0   \n",
            "\n",
            "   blood_group_A  \n",
            "0              1  \n",
            "1              0  \n",
            "2              0  \n",
            "3              0  \n",
            "4              0  \n"
          ]
        }
      ]
    }
  ]
}