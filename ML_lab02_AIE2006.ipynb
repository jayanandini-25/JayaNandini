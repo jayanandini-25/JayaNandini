{
  "nbformat": 4,
  "nbformat_minor": 0,
  "metadata": {
    "colab": {
      "provenance": []
    },
    "kernelspec": {
      "name": "python3",
      "display_name": "Python 3"
    },
    "language_info": {
      "name": "python"
    }
  },
  "cells": [
    {
      "cell_type": "code",
      "execution_count": 6,
      "metadata": {
        "colab": {
          "base_uri": "https://localhost:8080/"
        },
        "id": "W3lSlpUEE9jM",
        "outputId": "ca6615dd-d92f-4b75-d689-31b1d5b4e313"
      },
      "outputs": [
        {
          "output_type": "stream",
          "name": "stdout",
          "text": [
            "Euclidean Distance: 57.445626465380286\n",
            "Manhattan Distance: 90\n"
          ]
        }
      ],
      "source": [
        "import math\n",
        "def euclidean_distance(vector1, vector2):\n",
        "    if len(vector1) != len(vector2):\n",
        "        print(\"Vectors should have the same dimensionality\")\n",
        "\n",
        "    squared_difference = sum((v1 - v2) ** 2 for v1, v2 in zip(vector1, vector2))\n",
        "    return math.sqrt(squared_difference)\n",
        "\n",
        "def manhattan_distance(vector1, vector2):\n",
        "    if len(vector1) != len(vector2):\n",
        "        print(\"Vectors should have the same dimensionality\")\n",
        "\n",
        "    abs_difference = sum(abs(v1 - v2) for v1, v2 in zip(vector1, vector2))\n",
        "    return abs_difference\n",
        "\n",
        "vector_a = [10, 20 ,40]\n",
        "vector_b = [20, 60, 80]\n",
        "\n",
        "euclidean_result = euclidean_distance(vector_a, vector_b)\n",
        "manhattan_result = manhattan_distance(vector_a, vector_b)\n",
        "\n",
        "print(f\"Euclidean Distance: {euclidean_result}\")\n",
        "print(f\"Manhattan Distance: {manhattan_result}\")\n"
      ]
    },
    {
      "cell_type": "code",
      "source": [
        "def euclidean_distance(vector1, vector2):\n",
        "    return sum((v1 - v2) ** 2 for v1, v2 in zip(vector1, vector2)) ** 0.5\n",
        "\n",
        "def k_nearest_neighbors(training_data, test_instance, k=3):\n",
        "    distances = [(euclidean_distance(test_instance, training_instance), label) for training_instance, label in training_data]\n",
        "    sorted_distances = sorted(distances, key=lambda x: x[0])\n",
        "    k_nearest_labels = [label for _, label in sorted_distances[:k]]\n",
        "\n",
        "    label_count = {}\n",
        "    for label in k_nearest_labels:\n",
        "        if label in label_count:\n",
        "            label_count[label] += 1\n",
        "        else:\n",
        "            label_count[label] = 1\n",
        "\n",
        "    max_count = 0\n",
        "    most_common_label = None\n",
        "    for label, count in label_count.items():\n",
        "        if count > max_count:\n",
        "            max_count = count\n",
        "            most_common_label = label\n",
        "\n",
        "    return most_common_label\n",
        "\n",
        "training_data = [([120,1000,6.5], '4-seater'), ([170,2500,17.5], '6-seater')]\n",
        "test_instance = [155,3500,12.5]\n",
        "k_value = 1\n",
        "\n",
        "predicted_label = k_nearest_neighbors(training_data, test_instance, k=k_value)\n",
        "print(f\"The predicted label for the test instance is: {predicted_label}\")\n",
        "\n"
      ],
      "metadata": {
        "colab": {
          "base_uri": "https://localhost:8080/"
        },
        "id": "TUWI-psWIx9y",
        "outputId": "72a6c688-156d-452b-9dd6-a637136eaeff"
      },
      "execution_count": 12,
      "outputs": [
        {
          "output_type": "stream",
          "name": "stdout",
          "text": [
            "The predicted label for the test instance is: 6-seater\n"
          ]
        }
      ]
    }
  ]
}