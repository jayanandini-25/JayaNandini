{
  "nbformat": 4,
  "nbformat_minor": 0,
  "metadata": {
    "colab": {
      "provenance": []
    },
    "kernelspec": {
      "name": "python3",
      "display_name": "Python 3"
    },
    "language_info": {
      "name": "python"
    }
  },
  "cells": [
    {
      "cell_type": "code",
      "execution_count": 1,
      "metadata": {
        "colab": {
          "base_uri": "https://localhost:8080/"
        },
        "id": "Mur3BR6hCaXo",
        "outputId": "7898303b-50e9-4ad1-d0a0-9503fd7ac078"
      },
      "outputs": [
        {
          "output_type": "stream",
          "name": "stdout",
          "text": [
            # Counting vowels and consonants in a string
            "Enter a string:APPLE\n",
            "No.of vowels in the string: 2\n",
            "No.of consonants in the string: 3\n"
          ]
        }
      ],
      "source": [
        "string1=input(\"Enter a string:\")\n",
        "vowels=0\n",
        "consonants=0\n",
        "\n",
        "lower_string=string1.lower()\n",
        "\n",
        "for i in lower_string:\n",
        "    if(i == 'a' or i == 'e' or i == 'i' or i == 'o' or i == 'u'):\n",
        "       vowels = vowels + 1\n",
        "    else:\n",
        "        consonants = consonants + 1\n",
        "\n",
        "print(\"No.of vowels in the string:\",vowels)\n",
        "print(\"No.of consonants in the string:\",consonants)\n"
      ]
    },
    {
      "cell_type": "code",
      "source": [
        "def matrix_input():\n",
        "    rows = int(input(\"Enter the number of rows: \"))\n",
        "    cols = int(input(\"Enter the number of columns: \"))\n",
        "\n",
        "    matrix = []\n",
        "    for i in range(rows):\n",
        "        row = [int(input(f\"Enter element at position ({i}, {j}): \")) for j in range(cols)]\n",
        "        matrix.append(row)\n",
        "\n",
        "    return matrix\n",
        "\n",
        "def matrices_multiplication(matrix_A, matrix_B):\n",
        "    A_rows, A_cols = len(matrix_A), len(matrix_A[0])\n",
        "    B_rows, B_cols = len(matrix_B), len(matrix_B[0])\n",
        "\n",
        "    if A_cols != B_rows:\n",
        "        print(\"Error: Matrices are not multipliable.\")\n",
        "        return None\n",
        "\n",
        "    result = []\n",
        "    result = [[sum(matrix_A[i][k] * matrix_B[k][j] for k in range(A_cols)) for j in range(B_cols)] for i in range(A_rows)]\n",
        "\n",
        "    return result\n",
        "\n",
        "\n",
        "if __name__ == \"__main__\":\n",
        "    print(\"Enter the elements for matrix A:\")\n",
        "    matrix_A = matrix_input()\n",
        "\n",
        "    print(\"\\nEnter the elements for matrix B:\")\n",
        "    matrix_B = matrix_input()\n",
        "\n",
        "    product = matrices_multiplication(matrix_A, matrix_B)\n",
        "\n",
        "    if product:\n",
        "        print(\"\\nMatrix A:\")\n",
        "        for row in matrix_A:\n",
        "            print(row)\n",
        "\n",
        "        print(\"\\nMatrix B:\")\n",
        "        for row in matrix_B:\n",
        "            print(row)\n",
        "\n",
        "        print(\"\\nProduct (AB):\")\n",
        "        for row in product:\n",
        "            print(row)\n"
      ],
      "metadata": {
        "colab": {
          "base_uri": "https://localhost:8080/"
        },
        "id": "124pfJdLC0Fx",
        "outputId": "55cdf0ce-eb24-4ce8-8c57-dda4a1b6a4de"
      },
      "execution_count": 7,
      "outputs": [
        {
          "output_type": "stream",
          "name": "stdout",
          "text": [
            "Enter the elements for matrix A:\n",
            "Enter the number of rows: 2\n",
            "Enter the number of columns: 2\n",
            "Enter element at position (0, 0): 1\n",
            "Enter element at position (0, 1): 2\n",
            "Enter element at position (1, 0): 3\n",
            "Enter element at position (1, 1): 4\n",
            "\n",
            "Enter the elements for matrix B:\n",
            "Enter the number of rows: 2\n",
            "Enter the number of columns: 2\n",
            "Enter element at position (0, 0): 1\n",
            "Enter element at position (0, 1): 1\n",
            "Enter element at position (1, 0): 1\n",
            "Enter element at position (1, 1): 1\n",
            "\n",
            "Matrix A:\n",
            "[1, 2]\n",
            "[3, 4]\n",
            "\n",
            "Matrix B:\n",
            "[1, 1]\n",
            "[1, 1]\n",
            "\n",
            "Product (AB):\n",
            "[3, 3]\n",
            "[7, 7]\n"
          ]
        }
      ]
    },
    {
      "cell_type": "code",
      "source": [
        "def count_common_elements(list1, list2):\n",
        "    common_elements = set(list1) & set(list2)\n",
        "    return len(common_elements)\n",
        "\n",
        "if __name__ == \"__main__\":\n",
        "    list1 = [10, 23, 31, 24, 59]\n",
        "    list2 = [31, 24, 55, 10, 7]\n",
        "\n",
        "    count = count_common_elements(list1, list2)\n",
        "\n",
        "    print(\"List 1:\", list1)\n",
        "    print(\"List 2:\", list2)\n",
        "    print(\"Number of common elements:\", count)\n"
      ],
      "metadata": {
        "colab": {
          "base_uri": "https://localhost:8080/"
        },
        "id": "CcS2g_LAI3li",
        "outputId": "bd0f3adc-d2ab-482a-d16e-337e05047853"
      },
      "execution_count": 3,
      "outputs": [
        {
          "output_type": "stream",
          "name": "stdout",
          "text": [
            "List 1: [10, 23, 31, 24, 59]\n",
            "List 2: [31, 24, 55, 10, 7]\n",
            "Number of common elements: 3\n"
          ]
        }
      ]
    },
    {
      "cell_type": "code",
      "source": [
        "def matrix_input():\n",
        "    rows = int(input(\"Enter the number of rows: \"))\n",
        "    cols = int(input(\"Enter the number of columns: \"))\n",
        "\n",
        "    matrix = []\n",
        "    for i in range(rows):\n",
        "        row = [int(input(f\"Enter element at position ({i}, {j}): \")) for j in range(cols)]\n",
        "        matrix.append(row)\n",
        "\n",
        "    return matrix\n",
        "\n",
        "def transpose_matrix(matrix):\n",
        "    return [[matrix[j][i] for j in range(len(matrix))] for i in range(len(matrix[0]))]\n",
        "\n",
        "if __name__ == \"__main__\":\n",
        "    matrix1 = matrix_input()\n",
        "\n",
        "    print(\"\\nOriginal Matrix:\")\n",
        "    for row in matrix1:\n",
        "        print(row)\n",
        "\n",
        "    transposed_matrix = transpose_matrix(matrix1)\n",
        "\n",
        "    print(\"\\nTransposed Matrix:\")\n",
        "    for row in transposed_matrix:\n",
        "        print(row)\n"
      ],
      "metadata": {
        "colab": {
          "base_uri": "https://localhost:8080/"
        },
        "id": "ykk7C5mOJ229",
        "outputId": "79927a16-889f-43dc-fd93-186aec3668fb"
      },
      "execution_count": 9,
      "outputs": [
        {
          "output_type": "stream",
          "name": "stdout",
          "text": [
            "Enter the number of rows: 2\n",
            "Enter the number of columns: 2\n",
            "Enter element at position (0, 0): 1\n",
            "Enter element at position (0, 1): 2\n",
            "Enter element at position (1, 0): 3\n",
            "Enter element at position (1, 1): 4\n",
            "\n",
            "Original Matrix:\n",
            "[1, 2]\n",
            "[3, 4]\n",
            "\n",
            "Transposed Matrix:\n",
            "[1, 3]\n",
            "[2, 4]\n"
          ]
        },
        {
          "output_type": "execute_result",
          "data": {
            "text/plain": [
              "3"
            ]
          },
          "metadata": {},
          "execution_count": 9
        }
      ]
    }
  ]
}
